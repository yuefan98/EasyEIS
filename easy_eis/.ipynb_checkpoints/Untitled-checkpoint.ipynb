{
 "cells": [
  {
   "cell_type": "code",
   "execution_count": 42,
   "id": "65c46a61-7bcc-4872-82e6-fd15fa546f18",
   "metadata": {},
   "outputs": [],
   "source": [
    "import matplotlib.pyplot as plt\n",
    "import matplotlib.patches as mpatches\n",
    "import numpy as np \n",
    "from io import StringIO, BytesIO\n"
   ]
  },
  {
   "cell_type": "code",
   "execution_count": 43,
   "id": "7551b8f3-224a-4f5e-b841-c6f25bc9fc83",
   "metadata": {},
   "outputs": [],
   "source": [
    "class elements:\n",
    "    def __init__(self,ax,x,y,lw):\n",
    "        self.x = x\n",
    "        self.y = y\n",
    "        self.lw = lw\n",
    "        self.ax = ax\n",
    "    def R(self):\n",
    "        x0 = np.linspace(0,7,15)\n",
    "        y0 = np.array([0,0,0.3,0,-0.3,0,0.3,0,-0.3,0,0.3,0,-0.3,0,0])\n",
    "        self.ax.plot(self.x+x0, self.y+y0, color='black',lw=self.lw)\n",
    "\n",
    "        self.x += x0[-1]\n",
    "        self.y += y0[-1]\n",
    "    def W(self):\n",
    "        x0 = np.linspace(1,6,9)\n",
    "        y0 = np.array([0.3,0,-0.3,0,0.3,0,-0.3,0,0.3])\n",
    "        self.ax.plot(self.x+x0, self.y+y0, color='black',lw=self.lw)\n",
    "        self.ax.plot(self.x+np.array([0,1.625]), self.y+np.array([0,0]), color='black',lw=self.lw)\n",
    "        self.ax.plot(self.x+np.array([5.375,7]), self.y+np.array([0,0]), color='black',lw=self.lw)\n",
    "        self.x += 7\n",
    "        self.y += 0\n",
    "\n",
    "    def C(self):\n",
    "        lm = 2\n",
    "        rm = 5\n",
    "        self.ax.plot(self.x+np.array([lm,lm]), self.y+np.array([-0.3,0.3]), color='black',lw=self.lw)\n",
    "        self.ax.plot(self.x+np.array([rm,rm]), self.y+np.array([-0.3,0.3]), color='black',lw=self.lw)\n",
    "        self.ax.plot(self.x+np.array([0,lm]), self.y+np.array([0,0]), color='black',lw=self.lw)\n",
    "        self.ax.plot(self.x+np.array([rm,7]), self.y+np.array([0,0]), color='black',lw=self.lw)\n",
    "        self.x += 7\n",
    "        self.y += 0\n",
    "    def line(self):\n",
    "        length = 7\n",
    "        self.ax.plot(self.x+np.array([0,length]), self.y+np.array([0,0]), color='black',lw=self.lw)\n",
    "        self.x += length\n",
    "        self.y += 0\n",
    "    def long_line(self):\n",
    "        length = 14\n",
    "        self.ax.plot(self.x+np.array([0,length]), self.y+np.array([0,0]), color='black',lw=self.lw)\n",
    "        self.x += length\n",
    "        self.y += 0\n",
    "        \n",
    "    def p(self,upper_elm,lower_elm):\n",
    "        height = 0.5\n",
    "        x_p = self.x\n",
    "        y_p = self.y \n",
    "        self.ax.plot(self.x+np.array([0,0]), self.y+np.array([-height,height]), color='black',lw=self.lw)\n",
    "        self.x += 0 \n",
    "        self.y += height\n",
    "        up_len = len(upper_elm)\n",
    "        low_len = len(lower_elm)\n",
    "        if up_len >= low_len:\n",
    "            self.line()\n",
    "        else:\n",
    "            for i in range (0,low_len-up_len+1):\n",
    "                self.line()\n",
    "        for i in range (0,up_len):\n",
    "                    upper_elm[i]()\n",
    "                    self.line()\n",
    "        if up_len < low_len:\n",
    "            for i in range (0,low_len-up_len):\n",
    "                self.line()\n",
    "        self.x = x_p\n",
    "        self.y = y_p-height\n",
    "        if up_len <= low_len:\n",
    "            self.line()\n",
    "        else:\n",
    "            for i in range (0,up_len-low_len+1):\n",
    "                self.line()\n",
    "        for i in range(0,low_len):\n",
    "            lower_elm[i]()\n",
    "            self.line()\n",
    "        if low_len < up_len:\n",
    "            for i in range (0,up_len-low_len):\n",
    "                self.line()\n",
    "\n",
    "        self.y = y_p\n",
    "        self.ax.plot(self.x+np.array([0,0]), self.y+np.array([-height,height]), color='black',lw=self.lw)\n",
    "    def save(self,name,dpi,w,h,transparent=True):\n",
    "\n",
    "        fig =self.get_fig(w, h)\n",
    "        fig.savefig(name, bbox_inches='tight', transparent=transparent, dpi=dpi)\n",
    "        \n",
    "    def get_fig(self,w,h):\n",
    "        self.ax.axes.get_xaxis().set_visible(False)\n",
    "        self.ax.axes.get_yaxis().set_visible(False)\n",
    "        self.ax.set_frame_on(False)\n",
    "        fig = self.ax.get_figure().set_size_inches(w,h)\n",
    "        return(fig)\n",
    "        \n",
    "    def getimage(self, w,h,fmt='png'):\n",
    "\n",
    "        fig = self.get_fig(w,h)\n",
    "        output = BytesIO()\n",
    "        plt.savefig(output, format=fmt, bbox_inches='tight')\n",
    "        image = output.getvalue()\n",
    "        return(image)"
   ]
  },
  {
   "cell_type": "code",
   "execution_count": 94,
   "id": "7be24363-e4da-4aa4-a2a8-c3fe4094087d",
   "metadata": {},
   "outputs": [],
   "source": [
    "circ_str = 'R-p(R*W,C)-R-p(P,C)'\n",
    "# circ_str = 'p(R-C,C)'\n",
    "\n",
    "names = circ_str.replace(' ', '').split('-')\n",
    "# names[0].replace('-','')"
   ]
  },
  {
   "cell_type": "code",
   "execution_count": 103,
   "id": "77292fcc-57f5-4c73-a480-86188d5ed3c0",
   "metadata": {},
   "outputs": [],
   "source": [
    "circ_str = 'R-p(R*W,C)-R-p(P,C)'\n",
    "circ_str_0 = circ_str.replace('*', '-')"
   ]
  },
  {
   "cell_type": "code",
   "execution_count": 104,
   "id": "fb978059-2d82-4672-aeff-65cb76e91b66",
   "metadata": {},
   "outputs": [],
   "source": [
    "elem_dic ={'R':0,'C':0,'W':0}\n",
    "circ_str_1 = '' "
   ]
  },
  {
   "cell_type": "code",
   "execution_count": 111,
   "id": "ca41bf07-1d65-478f-94c6-5a9b59fb5b7d",
   "metadata": {},
   "outputs": [],
   "source": [
    "string1 = '1,1,1,1'\n",
    "list1=list(string1.split(','))"
   ]
  },
  {
   "cell_type": "code",
   "execution_count": 112,
   "id": "984a3858-238e-4ac1-8821-393efe76ec52",
   "metadata": {},
   "outputs": [
    {
     "data": {
      "text/plain": [
       "['1', '1', '1', '1']"
      ]
     },
     "execution_count": 112,
     "metadata": {},
     "output_type": "execute_result"
    }
   ],
   "source": [
    "list1"
   ]
  },
  {
   "cell_type": "code",
   "execution_count": 113,
   "id": "d16cc98f-1f79-4e2c-a56c-b5969e7737dc",
   "metadata": {},
   "outputs": [
    {
     "data": {
      "text/plain": [
       "[1, 1, 1, 1]"
      ]
     },
     "execution_count": 113,
     "metadata": {},
     "output_type": "execute_result"
    }
   ],
   "source": [
    "\n",
    "list(map(int,list1))\n"
   ]
  },
  {
   "cell_type": "code",
   "execution_count": 141,
   "id": "0e15bb4c-0186-4dec-81e3-5a3253fb2362",
   "metadata": {},
   "outputs": [],
   "source": [
    "a=np.ones(2)*0.1"
   ]
  },
  {
   "cell_type": "code",
   "execution_count": 142,
   "id": "3c23bdd3-8100-4dbe-bd25-e85ec7b67140",
   "metadata": {},
   "outputs": [],
   "source": [
    "a=str(a).replace(' ',',').replace('[','').replace(']','')"
   ]
  },
  {
   "cell_type": "code",
   "execution_count": 143,
   "id": "0002617a-59e2-4544-a944-43a4dd6edb2f",
   "metadata": {},
   "outputs": [
    {
     "data": {
      "text/plain": [
       "'0.1,0.1'"
      ]
     },
     "execution_count": 143,
     "metadata": {},
     "output_type": "execute_result"
    }
   ],
   "source": [
    "a"
   ]
  },
  {
   "cell_type": "code",
   "execution_count": 126,
   "id": "a5491866-549c-45d6-891e-6a33cdfc4782",
   "metadata": {},
   "outputs": [
    {
     "data": {
      "text/plain": [
       "\"['1.0', '1.0']\""
      ]
     },
     "execution_count": 126,
     "metadata": {},
     "output_type": "execute_result"
    }
   ],
   "source": [
    "str(list(map(str,a)))"
   ]
  },
  {
   "cell_type": "code",
   "execution_count": 108,
   "id": "4dd96933-f725-41dc-8c96-67d2b5e8ade4",
   "metadata": {},
   "outputs": [
    {
     "ename": "ValueError",
     "evalue": "invalid literal for int() with base 10: '1,1,1'",
     "output_type": "error",
     "traceback": [
      "\u001b[0;31m---------------------------------------------------------------------------\u001b[0m",
      "\u001b[0;31mValueError\u001b[0m                                Traceback (most recent call last)",
      "\u001b[0;32m/var/folders/bg/9q93gt8n7kjbczw345gxns_40000gn/T/ipykernel_74716/2628388804.py\u001b[0m in \u001b[0;36m<module>\u001b[0;34m\u001b[0m\n\u001b[0;32m----> 1\u001b[0;31m \u001b[0mint\u001b[0m\u001b[0;34m(\u001b[0m\u001b[0;34m'1,1,1'\u001b[0m\u001b[0;34m)\u001b[0m\u001b[0;34m\u001b[0m\u001b[0;34m\u001b[0m\u001b[0m\n\u001b[0m",
      "\u001b[0;31mValueError\u001b[0m: invalid literal for int() with base 10: '1,1,1'"
     ]
    }
   ],
   "source": [
    "int('1,1,1')"
   ]
  },
  {
   "cell_type": "code",
   "execution_count": 105,
   "id": "2a8fe0f9-2457-41dc-a400-e45ca265405d",
   "metadata": {},
   "outputs": [],
   "source": [
    "for i in range (len(circ_str)):\n",
    "    circ_str_1 += circ_str_0[i]\n",
    "    if circ_str_0[i] in elem_dic:\n",
    "        circ_str_1 += str(elem_dic[circ_str_0[i]])\n",
    "        elem_dic[circ_str_0[i]] +=1\n",
    "        \n",
    "\n",
    "    \n",
    "    "
   ]
  },
  {
   "cell_type": "code",
   "execution_count": 106,
   "id": "ddca7e29-d97d-4a81-8895-b82418f916ab",
   "metadata": {},
   "outputs": [
    {
     "data": {
      "text/plain": [
       "'R0-p(R1-W0,C0)-R2-p(P,C1)'"
      ]
     },
     "execution_count": 106,
     "metadata": {},
     "output_type": "execute_result"
    }
   ],
   "source": [
    "circ_str_1"
   ]
  },
  {
   "cell_type": "code",
   "execution_count": 95,
   "id": "74248d92-7c53-44c2-a16f-fcaa5885ab3a",
   "metadata": {},
   "outputs": [
    {
     "data": {
      "text/plain": [
       "['R', 'p(R*W,C)', 'R', 'p(P,C)']"
      ]
     },
     "execution_count": 95,
     "metadata": {},
     "output_type": "execute_result"
    }
   ],
   "source": [
    "names"
   ]
  },
  {
   "cell_type": "code",
   "execution_count": 65,
   "id": "a192724a-2062-4e32-9e51-9a300912b438",
   "metadata": {},
   "outputs": [
    {
     "name": "stdout",
     "output_type": "stream",
     "text": [
      "['R', 'C']\n",
      "1\n"
     ]
    },
    {
     "data": {
      "image/png": "[encoded data removed]",
      "text/plain": [
       "<Figure size 200x200 with 1 Axes>"
      ]
     },
     "metadata": {},
     "output_type": "display_data"
    }
   ],
   "source": [
    "fig, ax = plt.subplots()\n",
    "\n",
    "EEC=elements(ax,0,0,2)\n",
    "EEC.long_line()\n",
    "elem_arr =['R','C','W']\n",
    "for elem in names:\n",
    "    if elem in elem_arr:\n",
    "        getattr(EEC, elem)()\n",
    "        EEC.line()\n",
    "    if 'p' == elem[0]:\n",
    "        elem_name = elem.replace('p', '').replace('(', '').replace(')', '').split(',')\n",
    "        print(elem_name)\n",
    "        elem_name_up = elem_name[0].split('-')\n",
    "        print(len(elem_name_up))\n",
    "        elem_name_low = elem_name[1].split('-')\n",
    "        elem_up = []\n",
    "        elem_low = []\n",
    "        for i in range (0,len(elem_name_up)):\n",
    "            if elem_name_up [i] in elem_arr:\n",
    "                elem_up.append(getattr(EEC, elem_name_up[i]))\n",
    "            else:\n",
    "                break\n",
    "                # st.error('This is an error', icon=\"🚨\")\n",
    "        for i in range (0,len(elem_name_low)):\n",
    "            if elem_name_low [i] in elem_arr:\n",
    "                elem_low.append(getattr(EEC, elem_name_low[i]))\n",
    "            else:\n",
    "                break\n",
    "                # st.error('This is an error', icon=\"🚨\")\n",
    "            \n",
    "        EEC.p(elem_up,elem_low)\n",
    "        \n",
    "    \n",
    "# getattr(EEC, circ_str)()\n",
    "EEC.long_line()\n",
    "image_bytes = EEC.getimage(2,2,fmt='jpg')"
   ]
  },
  {
   "cell_type": "code",
   "execution_count": 62,
   "id": "1a244146-c46d-475d-b77f-e309f61b1ca3",
   "metadata": {},
   "outputs": [
    {
     "name": "stdout",
     "output_type": "stream",
     "text": [
      "[<bound method elements.R of <__main__.elements object at 0x7f8630b40490>>]\n"
     ]
    }
   ],
   "source": [
    "print(elem_up)"
   ]
  },
  {
   "cell_type": "code",
   "execution_count": 55,
   "id": "2b05e559-772c-4ca7-904b-01394c2920a6",
   "metadata": {},
   "outputs": [],
   "source": [
    "a=[]"
   ]
  },
  {
   "cell_type": "code",
   "execution_count": 56,
   "id": "cb0c6f5c-283a-4273-aee7-c0971cfa4775",
   "metadata": {},
   "outputs": [
    {
     "ename": "IndexError",
     "evalue": "list assignment index out of range",
     "output_type": "error",
     "traceback": [
      "\u001b[0;31m---------------------------------------------------------------------------\u001b[0m",
      "\u001b[0;31mIndexError\u001b[0m                                Traceback (most recent call last)",
      "\u001b[0;32m/var/folders/bg/9q93gt8n7kjbczw345gxns_40000gn/T/ipykernel_74716/2088648011.py\u001b[0m in \u001b[0;36m<module>\u001b[0;34m\u001b[0m\n\u001b[0;32m----> 1\u001b[0;31m \u001b[0ma\u001b[0m\u001b[0;34m[\u001b[0m\u001b[0;36m0\u001b[0m\u001b[0;34m]\u001b[0m\u001b[0;34m=\u001b[0m\u001b[0;36m1\u001b[0m\u001b[0;34m\u001b[0m\u001b[0;34m\u001b[0m\u001b[0m\n\u001b[0m",
      "\u001b[0;31mIndexError\u001b[0m: list assignment index out of range"
     ]
    }
   ],
   "source": [
    "a[0]=1"
   ]
  },
  {
   "cell_type": "code",
   "execution_count": 2,
   "id": "1844c075-58e5-4b85-a101-a7e9514a4622",
   "metadata": {},
   "outputs": [],
   "source": [
    "names='R-C-p(R,C)'"
   ]
  },
  {
   "cell_type": "code",
   "execution_count": null,
   "id": "31ff104c-4a23-4a73-807c-86e15bfc4e89",
   "metadata": {},
   "outputs": [],
   "source": [
    "names = names.replace('p', '').replace('(', '').replace(')', '')\n",
    "names"
   ]
  },
  {
   "cell_type": "code",
   "execution_count": 6,
   "id": "b3a29bcf-baad-4574-846f-2033bf89c361",
   "metadata": {},
   "outputs": [
    {
     "data": {
      "text/plain": [
       "['R', 'C', 'p(R,C)']"
      ]
     },
     "execution_count": 6,
     "metadata": {},
     "output_type": "execute_result"
    }
   ],
   "source": [
    "names = names.replace(' ', '').split('-')\n",
    "names"
   ]
  },
  {
   "cell_type": "code",
   "execution_count": 18,
   "id": "47a0800f-521d-484f-a94a-b55424ecc91f",
   "metadata": {},
   "outputs": [],
   "source": [
    "names = 'p(R-W,C)'"
   ]
  },
  {
   "cell_type": "code",
   "execution_count": 19,
   "id": "b4eb4ee1-be80-46e6-9315-44c254e2c647",
   "metadata": {},
   "outputs": [
    {
     "data": {
      "text/plain": [
       "['R-W', 'C']"
      ]
     },
     "execution_count": 19,
     "metadata": {},
     "output_type": "execute_result"
    }
   ],
   "source": [
    "names = names.replace('p', '').replace('(', '').replace(')', '').split(',')\n",
    "names"
   ]
  },
  {
   "cell_type": "code",
   "execution_count": 21,
   "id": "e7814c88-8fa6-4eb1-b593-6e949e86eec5",
   "metadata": {},
   "outputs": [
    {
     "data": {
      "text/plain": [
       "['R', 'W']"
      ]
     },
     "execution_count": 21,
     "metadata": {},
     "output_type": "execute_result"
    }
   ],
   "source": [
    "names = 'R-W'\n",
    "names = names.split('-')\n",
    "names"
   ]
  },
  {
   "cell_type": "code",
   "execution_count": 23,
   "id": "342fc2e2-f687-4a8e-994b-f8f8b1553c5e",
   "metadata": {},
   "outputs": [
    {
     "data": {
      "text/plain": [
       "['C']"
      ]
     },
     "execution_count": 23,
     "metadata": {},
     "output_type": "execute_result"
    }
   ],
   "source": [
    "names = 'C'\n",
    "names = names.split('-')\n",
    "names"
   ]
  },
  {
   "cell_type": "code",
   "execution_count": 17,
   "id": "1582b078-ad28-4c19-8d75-da169597b495",
   "metadata": {},
   "outputs": [
    {
     "data": {
      "text/plain": [
       "['C']"
      ]
     },
     "execution_count": 17,
     "metadata": {},
     "output_type": "execute_result"
    }
   ],
   "source": [
    "names = names.replace('p', '').replace('(', '').replace(')', '').split(',')\n",
    "names"
   ]
  },
  {
   "cell_type": "code",
   "execution_count": null,
   "id": "23565661-21a0-42be-ad98-008b181a0d00",
   "metadata": {},
   "outputs": [],
   "source": [
    "np.linspace(0,6*2,13)"
   ]
  },
  {
   "cell_type": "code",
   "execution_count": null,
   "id": "172018bf-9451-40fb-8046-73c3ef40673d",
   "metadata": {},
   "outputs": [],
   "source": [
    "fig, ax = plt.subplots()\n",
    "\n",
    "x = np.linspace(0,7.5,16)\n",
    "y = np.array([0,0,0.3,0,-0.3,0,0.3,0,-0.3,0,0.3,0,-0.3,0,0,0])\n",
    "ax.plot(x, y, color='black')\n",
    "ax.plot(x[1:-2], y[1:-2]+0.1,linestyle = (0, (10, 3)), color='black')\n",
    "ax.plot(x[1:-2], y[1:-2]+0.2,linestyle = (0, (5, 3)), color='black')\n",
    "ax.set_ylim([-1,1])\n",
    "\n",
    "fig.savefig('test', bbox_inches='tight', transparent=True, dpi=300)"
   ]
  },
  {
   "cell_type": "code",
   "execution_count": null,
   "id": "ad158db3-0107-4b78-b4bb-5c330f0a397e",
   "metadata": {},
   "outputs": [],
   "source": [
    "x"
   ]
  },
  {
   "cell_type": "code",
   "execution_count": null,
   "id": "f736dbcd-5b9d-417d-a4f1-35e412625a1c",
   "metadata": {},
   "outputs": [],
   "source": [
    "fig, ax = plt.subplots()\n",
    "\n",
    "x = np.linspace(1,6,9)\n",
    "y = np.array([0.3,0,-0.3,0,0.3,0,-0.3,0,0.3])\n",
    "ax.plot(x, y, color='black')\n",
    "ax.plot(x[0:], y[0:]+0.1,linestyle = (0, (10, 3)), color='black')\n",
    "ax.plot(x[0:], y[0:]+0.2,linestyle = (0, (5, 3)), color='black')\n",
    "ax.plot([0,1.625], [0,0], color='black')\n",
    "ax.plot([5.375,5.375+1.625], [0,0], color='black')\n",
    "\n",
    "ax.set_ylim([-1,1])"
   ]
  },
  {
   "cell_type": "code",
   "execution_count": null,
   "id": "5a5bf711-c8f1-4166-ad27-eb4086ede13e",
   "metadata": {},
   "outputs": [],
   "source": [
    "fig, ax = plt.subplots()\n",
    "\n",
    "# x = np.linspace(1,6*2,9)\n",
    "# y = np.array([0.3,0,-0.3,0,0.3,0,-0.3,0,0.3])\n",
    "# ax.plot(x, y, color='black')\n",
    "# ax.plot(x[0:], y[0:]+0.1,linestyle = (0, (10, 3)), color='black')\n",
    "# ax.plot(x[0:], y[0:]+0.2,linestyle = (0, (5, 3)), color='black')\n",
    "ax.plot([1,1], [-0.5,0.5], color='black')\n",
    "ax.plot([2,2], [-0.5,0.5], color='black')\n",
    "# ax.plot([1.5,1.5], [-0.5,0.5],linestyle = (0, (10, 3)), color='black')\n",
    "# ax.plot(x[0:], y[0:]+0.2,linestyle = (0, (5, 3)), color='black')\n",
    "ax.plot([0,1], [0,0], color='black')\n",
    "ax.plot([2,3], [0,0], color='black')\n",
    "\n",
    "ax.set_ylim([-1,1])"
   ]
  },
  {
   "cell_type": "code",
   "execution_count": null,
   "id": "82d6ee8f-21dc-409e-b7cd-3adcbb7911e7",
   "metadata": {},
   "outputs": [],
   "source": [
    "linestyle_tuple = [\n",
    "     ('loosely dotted',        (0, (1, 10))),\n",
    "     ('dotted',                (0, (1, 1))),\n",
    "     ('densely dotted',        (0, (1, 1))),\n",
    "     ('long dash with offset', (5, (10, 3))),\n",
    "     ('loosely dashed',        (0, (5, 10))),\n",
    "     ('dashed',                (0, (5, 5))),\n",
    "     ('densely dashed',        (0, (5, 1))),\n",
    "\n",
    "     ('loosely dashdotted',    (0, (3, 10, 1, 10))),\n",
    "     ('dashdotted',            (0, (3, 5, 1, 5))),\n",
    "     ('densely dashdotted',    (0, (3, 1, 1, 1))),\n",
    "\n",
    "     ('dashdotdotted',         (0, (3, 5, 1, 5, 1, 5))),\n",
    "     ('loosely dashdotdotted', (0, (3, 10, 1, 10, 1, 10))),\n",
    "     ('densely dashdotdotted', (0, (3, 1, 1, 1, 1, 1)))]"
   ]
  },
  {
   "cell_type": "code",
   "execution_count": null,
   "id": "e5b74a76-a003-4c12-97f7-99c5312fba1a",
   "metadata": {},
   "outputs": [],
   "source": [
    "linestyle_tuple[0]"
   ]
  },
  {
   "cell_type": "code",
   "execution_count": null,
   "id": "7388e145-13d5-4d50-8e92-053c0db4b7c4",
   "metadata": {},
   "outputs": [],
   "source": [
    "linestyle_tuple[::-1]"
   ]
  },
  {
   "cell_type": "code",
   "execution_count": null,
   "id": "ccd86aeb-7d52-4c1b-adfa-839413493416",
   "metadata": {},
   "outputs": [],
   "source": [
    "x[-1]"
   ]
  },
  {
   "cell_type": "code",
   "execution_count": null,
   "id": "f9ac2d75-9edd-46db-a670-d5c65030ff7a",
   "metadata": {},
   "outputs": [],
   "source": [
    "x0 = np.linspace(0,7.5,16)\n"
   ]
  },
  {
   "cell_type": "code",
   "execution_count": null,
   "id": "fbbfe9f1-beb0-4f9f-9e03-2ec44b9d7af9",
   "metadata": {},
   "outputs": [],
   "source": [
    "x0"
   ]
  },
  {
   "cell_type": "code",
   "execution_count": 24,
   "id": "c2a8577a-5909-435f-bf8c-6b87245dab35",
   "metadata": {},
   "outputs": [],
   "source": [
    "class elements:\n",
    "    def __init__(self,ax,x,y,lw):\n",
    "        self.x = x\n",
    "        self.y = y\n",
    "        self.lw = lw\n",
    "        self.ax = ax\n",
    "    def R(self):\n",
    "        x0 = np.linspace(0,7,15)\n",
    "        y0 = np.array([0,0,0.3,0,-0.3,0,0.3,0,-0.3,0,0.3,0,-0.3,0,0])\n",
    "        self.ax.plot(self.x+x0, self.y+y0, color='black',lw=self.lw)\n",
    "\n",
    "        self.x += x0[-1]\n",
    "        self.y += y0[-1]\n",
    "    def W(self):\n",
    "        x0 = np.linspace(1,6,9)\n",
    "        y0 = np.array([0.3,0,-0.3,0,0.3,0,-0.3,0,0.3])\n",
    "        self.ax.plot(self.x+x0, self.y+y0, color='black',lw=self.lw)\n",
    "        self.ax.plot(self.x+np.array([0,1.625]), self.y+np.array([0,0]), color='black',lw=self.lw)\n",
    "        self.ax.plot(self.x+np.array([5.375,7]), self.y+np.array([0,0]), color='black',lw=self.lw)\n",
    "        self.x += 7\n",
    "        self.y += 0\n",
    "\n",
    "    def C(self):\n",
    "        lm = 2\n",
    "        rm = 5\n",
    "        self.ax.plot(self.x+np.array([lm,lm]), self.y+np.array([-0.3,0.3]), color='black',lw=self.lw)\n",
    "        self.ax.plot(self.x+np.array([rm,rm]), self.y+np.array([-0.3,0.3]), color='black',lw=self.lw)\n",
    "        self.ax.plot(self.x+np.array([0,lm]), self.y+np.array([0,0]), color='black',lw=self.lw)\n",
    "        self.ax.plot(self.x+np.array([rm,7]), self.y+np.array([0,0]), color='black',lw=self.lw)\n",
    "        self.x += 7\n",
    "        self.y += 0\n",
    "    def line(self):\n",
    "        length = 7\n",
    "        self.ax.plot(self.x+np.array([0,length]), self.y+np.array([0,0]), color='black',lw=self.lw)\n",
    "        self.x += length\n",
    "        self.y += 0\n",
    "    def long_line(self):\n",
    "        length = 14\n",
    "        self.ax.plot(self.x+np.array([0,length]), self.y+np.array([0,0]), color='black',lw=self.lw)\n",
    "        self.x += length\n",
    "        self.y += 0\n",
    "        \n",
    "    def p(self,upper_elm,lower_elm):\n",
    "        height = 0.5\n",
    "        x_p = self.x\n",
    "        y_p = self.y \n",
    "        self.ax.plot(self.x+np.array([0,0]), self.y+np.array([-height,height]), color='black',lw=self.lw)\n",
    "        self.x += 0 \n",
    "        self.y += height\n",
    "        up_len = len(upper_elm)\n",
    "        low_len = len(lower_elm)\n",
    "        if up_len >= low_len:\n",
    "            self.line()\n",
    "        else:\n",
    "            for i in range (0,low_len-up_len+1):\n",
    "                self.line()\n",
    "        for i in range (0,up_len):\n",
    "                    upper_elm[i]()\n",
    "                    self.line()\n",
    "        if up_len < low_len:\n",
    "            for i in range (0,low_len-up_len):\n",
    "                self.line()\n",
    "        self.x = x_p\n",
    "        self.y = y_p-height\n",
    "        if up_len <= low_len:\n",
    "            self.line()\n",
    "        else:\n",
    "            for i in range (0,up_len-low_len+1):\n",
    "                self.line()\n",
    "        for i in range(0,low_len):\n",
    "            lower_elm[i]()\n",
    "            self.line()\n",
    "        if low_len < up_len:\n",
    "            for i in range (0,up_len-low_len):\n",
    "                self.line()\n",
    "\n",
    "        self.y = y_p\n",
    "        self.ax.plot(self.x+np.array([0,0]), self.y+np.array([-height,height]), color='black',lw=self.lw)\n",
    "    def save(self,name,dpi,w,h,transparent=True):\n",
    "        self.ax.axes.get_xaxis().set_visible(False)\n",
    "        self.ax.axes.get_yaxis().set_visible(False)\n",
    "        self.ax.set_frame_on(False)\n",
    "        self.ax.get_figure().set_size_inches(w,h)\n",
    "        fig.savefig(name, bbox_inches='tight', transparent=transparent, dpi=dpi)\n",
    "    def getimage(self, fmt='png'):\n",
    "\n",
    "        with io.BytesIO() as buffer:  # use buffer memory\n",
    "            fig.savefig(buffer, format=fmt)\n",
    "            buffer.seek(0)\n",
    "            image = buffer.getvalue()\n",
    "        return(image)\n",
    "\n",
    "        \n",
    "        \n",
    "        "
   ]
  },
  {
   "cell_type": "code",
   "execution_count": 27,
   "id": "78a3e397-d094-456e-91b9-336ddf58a66a",
   "metadata": {},
   "outputs": [
    {
     "data": {
      "image/png": "[encoded data removed]",
      "text/plain": [
       "<Figure size 640x480 with 1 Axes>"
      ]
     },
     "metadata": {},
     "output_type": "display_data"
    }
   ],
   "source": [
    "fig, ax = plt.subplots()\n",
    "a=elements(ax,0,0,2)\n",
    "\n",
    "a.line\n",
    "a.line()\n",
    "# a.W()\n",
    "a.p([a.W,a.R],[a.C])\n",
    "a.line()\n",
    "a.line()\n",
    "# imag=a.getimage()\n",
    "\n",
    "\n",
    "# a.p(a.R,a.C())\n",
    "\n",
    "\n",
    "# plt.ylim(-2,2)\n",
    "# a.save('test',transparent=True, dpi=300,w=5,h=5)\n",
    "\n",
    "\n",
    "\n",
    "\n"
   ]
  },
  {
   "cell_type": "code",
   "execution_count": null,
   "id": "931411a3-61a1-4251-8fa8-589cac3128a8",
   "metadata": {},
   "outputs": [],
   "source": [
    "imag"
   ]
  },
  {
   "cell_type": "code",
   "execution_count": null,
   "id": "c7407c68-1af0-4083-823f-08159e9e1e0f",
   "metadata": {},
   "outputs": [],
   "source": [
    "\n",
    "fig.savefig('test', bbox_inches='tight', transparent=True, dpi=300)"
   ]
  },
  {
   "cell_type": "code",
   "execution_count": null,
   "id": "03bc2bf4-417b-4f87-b56b-2bb81fec8f39",
   "metadata": {},
   "outputs": [],
   "source": []
  },
  {
   "cell_type": "code",
   "execution_count": null,
   "id": "b6b03b21-5ea5-48d3-be15-79b74a95e421",
   "metadata": {},
   "outputs": [],
   "source": []
  },
  {
   "cell_type": "code",
   "execution_count": null,
   "id": "ae471ca0-870d-4754-a643-8f2a23b17b66",
   "metadata": {},
   "outputs": [],
   "source": [
    "\n",
    "# copy\n",
    "class elements:\n",
    "    def __init__(self,ax,x,y,lw):\n",
    "        self.x = x\n",
    "        self.y = y\n",
    "        self.lw = lw\n",
    "        self.ax = ax\n",
    "    def R(self):\n",
    "        x0 = np.linspace(0,7.5,16)\n",
    "        y0 = np.array([0,0,0.3,0,-0.3,0,0.3,0,-0.3,0,0.3,0,-0.3,0,0,0])\n",
    "        self.ax.plot(self.x+x0, self.y+y0, color='black',lw=self.lw)\n",
    "\n",
    "        self.x += x0[-1]\n",
    "        self.y += y0[-1]\n",
    "    def W(self):\n",
    "        x0 = np.linspace(1,6,9)\n",
    "        y0 = np.array([0.3,0,-0.3,0,0.3,0,-0.3,0,0.3])\n",
    "        self.ax.plot(self.x+x0, self.y+y0, color='black',lw=self.lw)\n",
    "        self.ax.plot(self.x+[0,1.625], self.y+[0,0], color='black',lw=self.lw)\n",
    "        self.ax.plot(self.x+[5.375,7], self.y+[0,0], color='black',lw=self.lw)\n",
    "        self.x += 7\n",
    "        self.y += 0\n",
    "\n",
    "    def C(self):\n",
    "        self.ax.plot(self.x+[1,1], self.y+[-0.5,0.5], color='black',lw=self.lw)\n",
    "        self.ax.plot(self.x+[2,2], self.y+[-0.5,0.5], color='black',lw=self.lw)\n",
    "        self.ax.plot(self.x+[0,1], self.y+[0,0], color='black',lw=self.lw)\n",
    "        self.ax.plot(self.x+[2,3], self.y+[0,0], color='black',lw=self.lw)\n",
    "        self.x += 3\n",
    "        self.y += 0\n",
    "    def line(self):\n",
    "        self.ax.plot(self.x+[0,1], self.y+[0,0], color='black',lw=self.lw)\n",
    "        self.x += 1\n",
    "        self.y += 0\n",
    "        \n",
    "    def p(self,up,low):\n",
    "        x_p = self.x\n",
    "        y_p = self.y \n",
    "        self.ax.plot(self.x+[0,0], self.y+[-1,1], color='black',lw=self.lw)\n",
    "        self.x += 0 \n",
    "        self.y += 1\n",
    "        up\n",
    "        self.x = x_p\n",
    "        self.y = y_p-1\n",
    "        low\n",
    "        self.ax.plot(self.x+[0,0], self.y+[-1,1], color='black',lw=self.lw)\n",
    "        self.y = y_p\n",
    "        \n",
    "        \n",
    "        \n",
    "        "
   ]
  },
  {
   "cell_type": "code",
   "execution_count": null,
   "id": "447fe3d0-bb35-4d53-b967-fdb41d1ea096",
   "metadata": {},
   "outputs": [],
   "source": [
    "fig, ax = plt.subplots()\n",
    "b=elements(ax,1,0,2)\n",
    "b.R()\n",
    "b.C()\n",
    "b.W()\n",
    "# a.p(a.R(),a.C())\n",
    "\n",
    "# a.p(a.R,a.C())\n",
    "\n",
    "\n",
    "plt.ylim(-2,2)\n",
    "plt.show()\n",
    "\n",
    "\n",
    "\n",
    "\n"
   ]
  },
  {
   "cell_type": "code",
   "execution_count": null,
   "id": "c95c99c6-eaa0-4b5b-a838-2ff45f33dd08",
   "metadata": {},
   "outputs": [],
   "source": []
  }
 ],
 "metadata": {
  "kernelspec": {
   "display_name": "Python 3 (ipykernel)",
   "language": "python",
   "name": "python3"
  },
  "language_info": {
   "codemirror_mode": {
    "name": "ipython",
    "version": 3
   },
   "file_extension": ".py",
   "mimetype": "text/x-python",
   "name": "python",
   "nbconvert_exporter": "python",
   "pygments_lexer": "ipython3",
   "version": "3.9.13"
  }
 },
 "nbformat": 4,
 "nbformat_minor": 5
}
